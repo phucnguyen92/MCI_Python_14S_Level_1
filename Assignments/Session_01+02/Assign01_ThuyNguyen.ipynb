{
 "cells": [
  {
   "cell_type": "code",
   "execution_count": 3,
   "metadata": {},
   "outputs": [],
   "source": [
    "#Viết một chương trình tính giai thừa của một số nguyên dương n. Với n được nhập từ bàn phím. \n",
    "def factorial(n):\n",
    "    fac=1\n",
    "    for i in range(1,n+1):\n",
    "        fac=fac*i\n",
    "    return fac"
   ]
  },
  {
   "cell_type": "code",
   "execution_count": 5,
   "metadata": {},
   "outputs": [
    {
     "data": {
      "text/plain": [
       "40320"
      ]
     },
     "execution_count": 5,
     "metadata": {},
     "output_type": "execute_result"
    }
   ],
   "source": [
    "factorial(8)"
   ]
  },
  {
   "cell_type": "code",
   "execution_count": 6,
   "metadata": {},
   "outputs": [],
   "source": [
    "#Viết chương trình tính tổng của các chữ số của môt số nguyên n trong Python. Số nguyên dương n được nhập từ bàn phím. \n",
    "def sum_all(n):\n",
    "    sum_all=0\n",
    "    while n!=0:\n",
    "        a=n%10\n",
    "        sum_all=sum_all+a\n",
    "        n=n//10\n",
    "    return sum_all"
   ]
  },
  {
   "cell_type": "code",
   "execution_count": 7,
   "metadata": {},
   "outputs": [
    {
     "data": {
      "text/plain": [
       "21"
      ]
     },
     "execution_count": 7,
     "metadata": {},
     "output_type": "execute_result"
    }
   ],
   "source": [
    "sum_all(123456)"
   ]
  },
  {
   "cell_type": "code",
   "execution_count": 14,
   "metadata": {},
   "outputs": [],
   "source": [
    "#Tìm giá trị lớn nhất của một list hoặc tuple nhập vào.\n",
    "def maximum(li):\n",
    "    maximum=0\n",
    "    for i in li:\n",
    "        if i>maximum:\n",
    "            maximum=i\n",
    "    return maximum"
   ]
  },
  {
   "cell_type": "code",
   "execution_count": 15,
   "metadata": {},
   "outputs": [
    {
     "data": {
      "text/plain": [
       "8"
      ]
     },
     "execution_count": 15,
     "metadata": {},
     "output_type": "execute_result"
    }
   ],
   "source": [
    "maximum([2,5,8,1,4])"
   ]
  },
  {
   "cell_type": "code",
   "execution_count": 34,
   "metadata": {},
   "outputs": [],
   "source": [
    "#Tìm giá trị lớn thứ nhì từ một list hoặc tuple nhập vào.\n",
    "def second_maximum(li):\n",
    "    maxi=0\n",
    "    sc_maxi=0\n",
    "    sc=[]\n",
    "    for i in li:\n",
    "        if i>=maxi: maxi=i\n",
    "    for j in li:\n",
    "        if j<maxi:sc.append(j)\n",
    "    for item in sc:\n",
    "        if item>=sc_maxi: sc_maxi=item\n",
    "    return sc_maxi"
   ]
  },
  {
   "cell_type": "code",
   "execution_count": 35,
   "metadata": {},
   "outputs": [
    {
     "data": {
      "text/plain": [
       "9"
      ]
     },
     "execution_count": 35,
     "metadata": {},
     "output_type": "execute_result"
    }
   ],
   "source": [
    "second_maximum([2,5,7,9,1,10])"
   ]
  },
  {
   "cell_type": "code",
   "execution_count": 43,
   "metadata": {},
   "outputs": [],
   "source": [
    "#Định nghĩa một hàm có input là 2 chuỗi và trả về chuỗi có độ dài lớn hơn. Nếu 2 chuỗi có chiều dài như nhau thì trả tất cả các chuỗi dưới dạng tuple.\n",
    "def greater_string(str_1, str_2):\n",
    "    if len(str_1)>len(str_2):\n",
    "        print(str_1)\n",
    "    elif len(str_1)<len(str_2):\n",
    "        print(str_2)\n",
    "    else: print((str_1, str_2))"
   ]
  },
  {
   "cell_type": "code",
   "execution_count": 41,
   "metadata": {},
   "outputs": [
    {
     "name": "stdout",
     "output_type": "stream",
     "text": [
      "My comp\n"
     ]
    }
   ],
   "source": [
    "greater_string(\"My uni\", \"My comp\")"
   ]
  },
  {
   "cell_type": "code",
   "execution_count": 42,
   "metadata": {},
   "outputs": [
    {
     "name": "stdout",
     "output_type": "stream",
     "text": [
      "('Hub', 'hut')\n"
     ]
    }
   ],
   "source": [
    "greater_string(\"Hub\",\"hut\")"
   ]
  },
  {
   "cell_type": "code",
   "execution_count": null,
   "metadata": {},
   "outputs": [],
   "source": []
  }
 ],
 "metadata": {
  "kernelspec": {
   "display_name": "Python 3",
   "language": "python",
   "name": "python3"
  },
  "language_info": {
   "codemirror_mode": {
    "name": "ipython",
    "version": 3
   },
   "file_extension": ".py",
   "mimetype": "text/x-python",
   "name": "python",
   "nbconvert_exporter": "python",
   "pygments_lexer": "ipython3",
   "version": "3.8.3"
  }
 },
 "nbformat": 4,
 "nbformat_minor": 4
}
