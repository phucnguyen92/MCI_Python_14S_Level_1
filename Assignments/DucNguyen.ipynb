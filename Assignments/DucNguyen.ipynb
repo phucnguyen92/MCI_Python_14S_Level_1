{
 "cells": [
  {
   "cell_type": "code",
   "execution_count": 1,
   "metadata": {},
   "outputs": [],
   "source": [
    "##Exercise 1:\n",
    "def factorial(n):\n",
    "    result = 1;\n",
    "    for i in range(1,n+1):\n",
    "        result = i * result;\n",
    "        \n",
    "    return result"
   ]
  },
  {
   "cell_type": "code",
   "execution_count": 8,
   "metadata": {},
   "outputs": [],
   "source": [
    "##Exercise 2:\n",
    "def sum_all(n):\n",
    "    result = 0\n",
    "    strN = str(n)\n",
    "    list1 = [char for char in strN]\n",
    "    for i in list1:\n",
    "        result = result +int(i)\n",
    "        \n",
    "    return result"
   ]
  },
  {
   "cell_type": "code",
   "execution_count": 11,
   "metadata": {},
   "outputs": [],
   "source": [
    "##Exercise 3:\n",
    "def maximum(li):\n",
    "    return max(li)"
   ]
  },
  {
   "cell_type": "code",
   "execution_count": 12,
   "metadata": {},
   "outputs": [],
   "source": [
    "##Exercise 4:"
   ]
  },
  {
   "cell_type": "code",
   "execution_count": 18,
   "metadata": {},
   "outputs": [],
   "source": [
    "def secondMax(li):\n",
    "    temp = max(li);\n",
    "    li.pop(li.index(temp))\n",
    "    return max(li)"
   ]
  },
  {
   "cell_type": "code",
   "execution_count": 22,
   "metadata": {},
   "outputs": [],
   "source": [
    "##Exercise 5:\n",
    "def whichIsMore(li1, li2):\n",
    "    length1 = len(li1)\n",
    "    length2 = len(li2)\n",
    "    if(length1 > length2):\n",
    "        return li1\n",
    "    elif(length1 < length2):\n",
    "        return li2\n",
    "    else:\n",
    "        return li1, li2"
   ]
  },
  {
   "cell_type": "code",
   "execution_count": 55,
   "metadata": {},
   "outputs": [],
   "source": [
    "##Exercise 6:\n",
    "def removeDuplicated(str1):\n",
    "    dictionary = {};\n",
    "    list1 = [char for char in str1];\n",
    "    for i in list1:\n",
    "        dictionary[i]=1\n",
    "    result = ''\n",
    "    for item in dictionary.keys():\n",
    "        result+=item\n",
    "    return result"
   ]
  },
  {
   "cell_type": "code",
   "execution_count": 56,
   "metadata": {},
   "outputs": [
    {
     "data": {
      "text/plain": [
       "'asd'"
      ]
     },
     "execution_count": 56,
     "metadata": {},
     "output_type": "execute_result"
    }
   ],
   "source": [
    "removeDuplicated(\"asdsaadsadsadsadsad\")"
   ]
  },
  {
   "cell_type": "code",
   "execution_count": null,
   "metadata": {},
   "outputs": [],
   "source": []
  }
 ],
 "metadata": {
  "kernelspec": {
   "display_name": "Python 3",
   "language": "python",
   "name": "python3"
  },
  "language_info": {
   "codemirror_mode": {
    "name": "ipython",
    "version": 3
   },
   "file_extension": ".py",
   "mimetype": "text/x-python",
   "name": "python",
   "nbconvert_exporter": "python",
   "pygments_lexer": "ipython3",
   "version": "3.8.3"
  }
 },
 "nbformat": 4,
 "nbformat_minor": 4
}
