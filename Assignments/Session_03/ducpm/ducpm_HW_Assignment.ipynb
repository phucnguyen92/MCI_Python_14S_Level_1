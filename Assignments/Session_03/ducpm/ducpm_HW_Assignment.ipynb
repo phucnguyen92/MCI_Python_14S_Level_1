{
 "cells": [
  {
   "cell_type": "code",
   "execution_count": 21,
   "metadata": {
    "collapsed": false
   },
   "outputs": [],
   "source": [
    "import pandas as pd\n",
    "import datetime"
   ]
  },
  {
   "cell_type": "code",
   "execution_count": 36,
   "metadata": {
    "collapsed": false,
    "scrolled": true
   },
   "outputs": [
    {
     "data": {
      "text/html": [
       "<div>\n",
       "<table border=\"1\" class=\"dataframe\">\n",
       "  <thead>\n",
       "    <tr style=\"text-align: right;\">\n",
       "      <th></th>\n",
       "      <th>account_id</th>\n",
       "      <th>ad_id</th>\n",
       "      <th>event_name</th>\n",
       "      <th>timestamp</th>\n",
       "      <th>platform</th>\n",
       "      <th>category_name</th>\n",
       "      <th>region_name</th>\n",
       "      <th>condition_ad_name</th>\n",
       "      <th>price</th>\n",
       "    </tr>\n",
       "  </thead>\n",
       "  <tbody>\n",
       "    <tr>\n",
       "      <th>0</th>\n",
       "      <td>249683985899310273</td>\n",
       "      <td>-159265360436186278</td>\n",
       "      <td>order</td>\n",
       "      <td>2018-05-16 17:33:18.350333</td>\n",
       "      <td>on_behalf</td>\n",
       "      <td>Cars</td>\n",
       "      <td>Đông Bắc Bộ</td>\n",
       "      <td>Mới</td>\n",
       "      <td>267000000.0</td>\n",
       "    </tr>\n",
       "    <tr>\n",
       "      <th>1</th>\n",
       "      <td>2753457128963724056</td>\n",
       "      <td>-6487219347028929285</td>\n",
       "      <td>order</td>\n",
       "      <td>2018-05-04 16:03:08.099983</td>\n",
       "      <td>on_behalf</td>\n",
       "      <td>Cars</td>\n",
       "      <td>Đông Bắc Bộ</td>\n",
       "      <td>Mới</td>\n",
       "      <td>399000000.0</td>\n",
       "    </tr>\n",
       "    <tr>\n",
       "      <th>2</th>\n",
       "      <td>2753457128963724056</td>\n",
       "      <td>-6487219347028929285</td>\n",
       "      <td>order</td>\n",
       "      <td>2018-05-03 15:13:42.447070</td>\n",
       "      <td>on_behalf</td>\n",
       "      <td>Cars</td>\n",
       "      <td>Đông Bắc Bộ</td>\n",
       "      <td>Mới</td>\n",
       "      <td>399000000.0</td>\n",
       "    </tr>\n",
       "    <tr>\n",
       "      <th>3</th>\n",
       "      <td>-4397739266189556976</td>\n",
       "      <td>4054922453976773054</td>\n",
       "      <td>order</td>\n",
       "      <td>2018-05-23 11:15:25.932663</td>\n",
       "      <td>on_behalf</td>\n",
       "      <td>Cars</td>\n",
       "      <td>Hà Nội</td>\n",
       "      <td>Mới</td>\n",
       "      <td>705000000.0</td>\n",
       "    </tr>\n",
       "    <tr>\n",
       "      <th>4</th>\n",
       "      <td>-8143274583979068266</td>\n",
       "      <td>3202538754056800998</td>\n",
       "      <td>order</td>\n",
       "      <td>2018-05-15 17:53:01.634923</td>\n",
       "      <td>on_behalf</td>\n",
       "      <td>Cars</td>\n",
       "      <td>Hà Nội</td>\n",
       "      <td>Mới</td>\n",
       "      <td>696000000.0</td>\n",
       "    </tr>\n",
       "  </tbody>\n",
       "</table>\n",
       "</div>"
      ],
      "text/plain": [
       "            account_id                ad_id event_name  \\\n",
       "0   249683985899310273  -159265360436186278      order   \n",
       "1  2753457128963724056 -6487219347028929285      order   \n",
       "2  2753457128963724056 -6487219347028929285      order   \n",
       "3 -4397739266189556976  4054922453976773054      order   \n",
       "4 -8143274583979068266  3202538754056800998      order   \n",
       "\n",
       "                    timestamp   platform category_name  region_name  \\\n",
       "0  2018-05-16 17:33:18.350333  on_behalf          Cars  Đông Bắc Bộ   \n",
       "1  2018-05-04 16:03:08.099983  on_behalf          Cars  Đông Bắc Bộ   \n",
       "2  2018-05-03 15:13:42.447070  on_behalf          Cars  Đông Bắc Bộ   \n",
       "3  2018-05-23 11:15:25.932663  on_behalf          Cars       Hà Nội   \n",
       "4  2018-05-15 17:53:01.634923  on_behalf          Cars       Hà Nội   \n",
       "\n",
       "  condition_ad_name        price  \n",
       "0               Mới  267000000.0  \n",
       "1               Mới  399000000.0  \n",
       "2               Mới  399000000.0  \n",
       "3               Mới  705000000.0  \n",
       "4               Mới  696000000.0  "
      ]
     },
     "execution_count": 36,
     "metadata": {},
     "output_type": "execute_result"
    }
   ],
   "source": [
    "data = pd.read_csv('sample_data.csv')\n",
    "data.head()"
   ]
  },
  {
   "cell_type": "code",
   "execution_count": null,
   "metadata": {
    "collapsed": true
   },
   "outputs": [],
   "source": [
    "# 1"
   ]
  },
  {
   "cell_type": "code",
   "execution_count": 38,
   "metadata": {
    "collapsed": false,
    "scrolled": true
   },
   "outputs": [
    {
     "data": {
      "text/plain": [
       "platform\n",
       "android         10789\n",
       "desktop_web     11910\n",
       "ios             10773\n",
       "mobile_web       6154\n",
       "on_behalf          36\n",
       "unknown        108990\n",
       "Name: account_id, dtype: int64"
      ]
     },
     "execution_count": 38,
     "metadata": {},
     "output_type": "execute_result"
    }
   ],
   "source": [
    "data.groupby('platform')['account_id'].nunique()"
   ]
  },
  {
   "cell_type": "code",
   "execution_count": 40,
   "metadata": {
    "collapsed": true
   },
   "outputs": [],
   "source": [
    "# 2"
   ]
  },
  {
   "cell_type": "code",
   "execution_count": 39,
   "metadata": {
    "collapsed": false,
    "scrolled": true
   },
   "outputs": [
    {
     "data": {
      "text/plain": [
       "platform\n",
       "android         130551\n",
       "desktop_web     144673\n",
       "ios             144161\n",
       "mobile_web       40165\n",
       "on_behalf           82\n",
       "unknown        3669226\n",
       "Name: ad_id, dtype: int64"
      ]
     },
     "execution_count": 39,
     "metadata": {},
     "output_type": "execute_result"
    }
   ],
   "source": [
    "data.groupby('platform')['ad_id'].nunique()"
   ]
  },
  {
   "cell_type": "code",
   "execution_count": null,
   "metadata": {
    "collapsed": true
   },
   "outputs": [],
   "source": [
    "# 3"
   ]
  },
  {
   "cell_type": "code",
   "execution_count": 10,
   "metadata": {
    "collapsed": false,
    "scrolled": false
   },
   "outputs": [
    {
     "data": {
      "text/plain": [
       "category_name\n",
       "Accessories                                    121942\n",
       "Aircon                                            275\n",
       "Bags                                            10470\n",
       "Bed & bedding                                     453\n",
       "Bicycles                                        23474\n",
       "Bird                                            28684\n",
       "Books                                             194\n",
       "Cameras, Video Cameras                          41631\n",
       "Cars                                           145121\n",
       "Clothes                                         27205\n",
       "Collectibles, Antiques                          46042\n",
       "Components                                       3733\n",
       "Computers, Laptops                             351123\n",
       "Desktop                                         56934\n",
       "Dog                                             64872\n",
       "Electric vehicles                               24896\n",
       "Fan                                                12\n",
       "Fridge                                         155371\n",
       "Funiture, Plants                               103005\n",
       "Household drawer & shelf                          257\n",
       "Household table & chair                           746\n",
       "Jobs - Legacy cat                               35475\n",
       "Jobs looking for people                         46239\n",
       "Kitchen appliance                                2188\n",
       "Kitchen utensil & dinnerware                      357\n",
       "Lighting                                            9\n",
       "Mobile Phones                                  781435\n",
       "Mom and kids                                    21484\n",
       "Motorbikes                                     528333\n",
       "Musical instruments                             38743\n",
       "                                                ...  \n",
       "Ornamental plant & decoration                      41\n",
       "Other Vehicles                                    614\n",
       "Other accessories                               26231\n",
       "Other hobbies                                     345\n",
       "Other household items                           96860\n",
       "Other household items 14110                       139\n",
       "Other pet                                          36\n",
       "Other pets & equipments                         18295\n",
       "Others                                          24989\n",
       "PTY-Apartments                                  96202\n",
       "PTY-Houses                                     842357\n",
       "PTY-Land                                       415120\n",
       "PTY-Office, Commercial Properties              124718\n",
       "PTY-Rooms                                       52543\n",
       "People looking for jobs                          7707\n",
       "Perfume                                          5026\n",
       "Rooster                                        143983\n",
       "Services                                        11783\n",
       "Shoes                                           28153\n",
       "Smart wearables                                   968\n",
       "Specialized equipments, Agricultural breeds     66877\n",
       "Sports, Outdoors                                 9196\n",
       "TV, Speakers, MP3 players                      349711\n",
       "Tablets                                         59712\n",
       "Travel                                           1157\n",
       "Trucks                                          52772\n",
       "Vehicles parts, Accessories                     56459\n",
       "Video games                                       662\n",
       "Washing machine                                   202\n",
       "Watch                                           74707\n",
       "Name: ad_id, dtype: int64"
      ]
     },
     "execution_count": 10,
     "metadata": {},
     "output_type": "execute_result"
    }
   ],
   "source": [
    "data.groupby('category_name')['ad_id'].count()"
   ]
  },
  {
   "cell_type": "code",
   "execution_count": null,
   "metadata": {
    "collapsed": true
   },
   "outputs": [],
   "source": [
    "# 4"
   ]
  },
  {
   "cell_type": "code",
   "execution_count": 12,
   "metadata": {
    "collapsed": false,
    "scrolled": false
   },
   "outputs": [
    {
     "data": {
      "text/plain": [
       "category_name\n",
       "PTY-Houses            842357\n",
       "Mobile Phones         781435\n",
       "Motorbikes            528333\n",
       "PTY-Land              415120\n",
       "Computers, Laptops    351123\n",
       "Name: ad_id, dtype: int64"
      ]
     },
     "execution_count": 12,
     "metadata": {},
     "output_type": "execute_result"
    }
   ],
   "source": [
    "data.groupby('category_name')['ad_id'].count().sort_values(ascending = False).head()"
   ]
  },
  {
   "cell_type": "code",
   "execution_count": null,
   "metadata": {
    "collapsed": true
   },
   "outputs": [],
   "source": [
    "# 5"
   ]
  },
  {
   "cell_type": "code",
   "execution_count": 13,
   "metadata": {
    "collapsed": false,
    "scrolled": true
   },
   "outputs": [
    {
     "data": {
      "text/plain": [
       "category_name\n",
       "Other household items 14110      139\n",
       "Ornamental plant & decoration     41\n",
       "Other pet                         36\n",
       "Fan                               12\n",
       "Lighting                           9\n",
       "Name: ad_id, dtype: int64"
      ]
     },
     "execution_count": 13,
     "metadata": {},
     "output_type": "execute_result"
    }
   ],
   "source": [
    "data.groupby('category_name')['ad_id'].count().sort_values(ascending = False).tail()"
   ]
  },
  {
   "cell_type": "code",
   "execution_count": null,
   "metadata": {
    "collapsed": true
   },
   "outputs": [],
   "source": [
    "# 6"
   ]
  },
  {
   "cell_type": "code",
   "execution_count": 16,
   "metadata": {
    "collapsed": false,
    "scrolled": true
   },
   "outputs": [
    {
     "data": {
      "text/plain": [
       "category_name\n",
       "New PTY-Villa, Private House                   4.842131e+09\n",
       "PTY-Houses                                     4.277837e+09\n",
       "New PTY-Shophouse, Officetel                   2.867514e+09\n",
       "PTY-Land                                       2.690955e+09\n",
       "New PTY-Apartments                             2.030694e+09\n",
       "Bird                                           1.474606e+09\n",
       "PTY-Apartments                                 1.136126e+09\n",
       "PTY-Office, Commercial Properties              9.918028e+08\n",
       "Other hobbies                                  7.213995e+08\n",
       "Trucks                                         6.693941e+08\n",
       "Cars                                           5.611877e+08\n",
       "Other Vehicles                                 3.781066e+08\n",
       "Jobs - Legacy cat                              2.736638e+08\n",
       "Services                                       1.919976e+08\n",
       "Rooster                                        1.917602e+08\n",
       "Others                                         1.669732e+08\n",
       "Sports, Outdoors                               1.292903e+08\n",
       "Vehicles parts, Accessories                    1.141225e+08\n",
       "Other accessories                              9.428206e+07\n",
       "Motorbikes                                     9.342245e+07\n",
       "Bags                                           8.026387e+07\n",
       "Clothes                                        6.333103e+07\n",
       "Specialized equipments, Agricultural breeds    6.217768e+07\n",
       "Musical instruments                            5.981323e+07\n",
       "Collectibles, Antiques                         5.284209e+07\n",
       "Dog                                            4.148606e+07\n",
       "PTY-Rooms                                      4.027282e+07\n",
       "Watch                                          3.596161e+07\n",
       "Cameras, Video Cameras                         3.527940e+07\n",
       "Mobile Phones                                  3.314954e+07\n",
       "                                                   ...     \n",
       "Desktop                                        1.376637e+07\n",
       "Washing machine                                1.349307e+07\n",
       "Other household items                          1.258057e+07\n",
       "People looking for jobs                        1.090129e+07\n",
       "Household drawer & shelf                       9.270467e+06\n",
       "Accessories                                    8.808542e+06\n",
       "Mom and kids                                   7.764274e+06\n",
       "Computers, Laptops                             7.304321e+06\n",
       "Travel                                         6.765364e+06\n",
       "Fridge                                         6.281682e+06\n",
       "Aircon                                         5.913818e+06\n",
       "Jobs looking for people                        5.653756e+06\n",
       "Office Equipments                              5.539453e+06\n",
       "Smart wearables                                4.612961e+06\n",
       "Household table & chair                        4.458298e+06\n",
       "Bicycles                                       3.262726e+06\n",
       "Other pets & equipments                        2.823146e+06\n",
       "Perfume                                        2.822657e+06\n",
       "Kitchen utensil & dinnerware                   2.336751e+06\n",
       "Video games                                    2.210399e+06\n",
       "Kitchen appliance                              2.062533e+06\n",
       "Books                                          1.682361e+06\n",
       "Bed & bedding                                  1.482936e+06\n",
       "Ornamental plant & decoration                  1.200000e+06\n",
       "Components                                     9.099373e+05\n",
       "Shoes                                          8.630324e+05\n",
       "Other household items 14110                    8.079137e+05\n",
       "Lighting                                       5.777778e+05\n",
       "Fan                                            1.750000e+05\n",
       "Other pet                                      1.000000e+05\n",
       "Name: price, dtype: float64"
      ]
     },
     "execution_count": 16,
     "metadata": {},
     "output_type": "execute_result"
    }
   ],
   "source": [
    "data.groupby('category_name')['price'].mean().sort_values(ascending = False)"
   ]
  },
  {
   "cell_type": "code",
   "execution_count": null,
   "metadata": {
    "collapsed": true
   },
   "outputs": [],
   "source": [
    "# 7"
   ]
  },
  {
   "cell_type": "code",
   "execution_count": 17,
   "metadata": {
    "collapsed": false,
    "scrolled": true
   },
   "outputs": [
    {
     "data": {
      "text/plain": [
       "region_name\n",
       "Tp Hồ Chí Minh                  1.302872e+09\n",
       "Quảng Nam Đà Nẵng               9.412990e+08\n",
       "Nam Trung Bộ                    9.059112e+08\n",
       "Đông Nam Bộ                     7.097406e+08\n",
       "Hà Nội                          6.645161e+08\n",
       "Tây Nguyên                      6.075989e+08\n",
       "Bình Trị Thừa Thiên Huế         4.143188e+08\n",
       "Cần Thơ - Tây Nam Bộ            4.101916e+08\n",
       "Tây Bắc Bộ                      3.616878e+08\n",
       "Các tỉnh lân cận Hà Nội         3.186963e+08\n",
       "Thanh Nghệ Tĩnh                 2.442715e+08\n",
       "Đông Bắc Bộ                     2.312546e+08\n",
       "Hải Phòng Nam Định Thái Bình    1.573403e+08\n",
       "Name: price, dtype: float64"
      ]
     },
     "execution_count": 17,
     "metadata": {},
     "output_type": "execute_result"
    }
   ],
   "source": [
    "data.groupby('region_name')['price'].mean().sort_values(ascending = False)"
   ]
  },
  {
   "cell_type": "code",
   "execution_count": null,
   "metadata": {
    "collapsed": true
   },
   "outputs": [],
   "source": [
    "# 8"
   ]
  },
  {
   "cell_type": "code",
   "execution_count": 18,
   "metadata": {
    "collapsed": false,
    "scrolled": true
   },
   "outputs": [
    {
     "data": {
      "text/plain": [
       "category_name                                condition_ad_name\n",
       "Accessories                                  Đã sử dụng            23379\n",
       "                                             Mới                    2412\n",
       "Aircon                                       Đã sử dụng              269\n",
       "                                             Mới                       6\n",
       "Bags                                         Mới                    6635\n",
       "                                             Đã sử dụng             3816\n",
       "Bed & bedding                                Mới                     453\n",
       "Bicycles                                     Đã sử dụng            20507\n",
       "                                             Mới                    2901\n",
       "Bird                                         Đã sử dụng            16786\n",
       "                                             Mới                   11787\n",
       "Books                                        Mới                     159\n",
       "                                             Đã sử dụng               34\n",
       "Cameras, Video Cameras                       Đã sử dụng            13571\n",
       "                                             Mới                     271\n",
       "Cars                                         Đã sử dụng           120068\n",
       "                                             Mới                   25049\n",
       "Clothes                                      Mới                   17161\n",
       "                                             Đã sử dụng            10014\n",
       "Collectibles, Antiques                       Đã sử dụng             7952\n",
       "                                             Mới                    1298\n",
       "Computers, Laptops                           Đã sử dụng            95975\n",
       "                                             Mới                      55\n",
       "Desktop                                      Đã sử dụng            10335\n",
       "                                             Mới                      27\n",
       "Dog                                          Mới                   48883\n",
       "                                             Đã sử dụng            15345\n",
       "Electric vehicles                            Đã sử dụng            23747\n",
       "                                             Mới                    1141\n",
       "Fan                                          Mới                      12\n",
       "                                                                   ...  \n",
       "PTY-Rooms                                    Đã sử dụng              939\n",
       "                                             Mới                       1\n",
       "People looking for jobs                      Đã sử dụng                4\n",
       "Perfume                                      Mới                    4466\n",
       "                                             Đã sử dụng              555\n",
       "Rooster                                      Mới                  119281\n",
       "                                             Đã sử dụng            24033\n",
       "Services                                     Đã sử dụng             2191\n",
       "                                             Mới                     365\n",
       "Shoes                                        Mới                   14407\n",
       "                                             Đã sử dụng            13721\n",
       "Specialized equipments, Agricultural breeds  Đã sử dụng            44287\n",
       "                                             Mới                   21773\n",
       "Sports, Outdoors                             Đã sử dụng             2340\n",
       "                                             Mới                     160\n",
       "TV, Speakers, MP3 players                    Đã sử dụng            62393\n",
       "                                             Mới                     855\n",
       "Tablets                                      Đã sử dụng            19402\n",
       "                                             Mới                      29\n",
       "Travel                                       Đã sử dụng              171\n",
       "                                             Mới                       8\n",
       "Trucks                                       Đã sử dụng            37043\n",
       "                                             Mới                   15688\n",
       "Vehicles parts, Accessories                  Đã sử dụng            38963\n",
       "                                             Mới                   17202\n",
       "Video games                                  Đã sử dụng              330\n",
       "                                             Mới                      85\n",
       "Washing machine                              Đã sử dụng              202\n",
       "Watch                                        Đã sử dụng            47584\n",
       "                                             Mới                   27039\n",
       "Name: condition_ad_name, dtype: int64"
      ]
     },
     "execution_count": 18,
     "metadata": {},
     "output_type": "execute_result"
    }
   ],
   "source": [
    "data.groupby('category_name')['condition_ad_name'].value_counts()"
   ]
  },
  {
   "cell_type": "code",
   "execution_count": null,
   "metadata": {
    "collapsed": true
   },
   "outputs": [],
   "source": [
    "# 9"
   ]
  },
  {
   "cell_type": "code",
   "execution_count": 37,
   "metadata": {
    "collapsed": false
   },
   "outputs": [
    {
     "data": {
      "text/html": [
       "<div>\n",
       "<table border=\"1\" class=\"dataframe\">\n",
       "  <thead>\n",
       "    <tr style=\"text-align: right;\">\n",
       "      <th></th>\n",
       "      <th>account_id</th>\n",
       "      <th>ad_id</th>\n",
       "      <th>event_name</th>\n",
       "      <th>timestamp</th>\n",
       "      <th>platform</th>\n",
       "      <th>category_name</th>\n",
       "      <th>region_name</th>\n",
       "      <th>condition_ad_name</th>\n",
       "      <th>price</th>\n",
       "      <th>month</th>\n",
       "    </tr>\n",
       "  </thead>\n",
       "  <tbody>\n",
       "    <tr>\n",
       "      <th>0</th>\n",
       "      <td>249683985899310273</td>\n",
       "      <td>-159265360436186278</td>\n",
       "      <td>order</td>\n",
       "      <td>2018-05-16 17:33:18.350333</td>\n",
       "      <td>on_behalf</td>\n",
       "      <td>Cars</td>\n",
       "      <td>Đông Bắc Bộ</td>\n",
       "      <td>Mới</td>\n",
       "      <td>267000000.0</td>\n",
       "      <td>5</td>\n",
       "    </tr>\n",
       "    <tr>\n",
       "      <th>1</th>\n",
       "      <td>2753457128963724056</td>\n",
       "      <td>-6487219347028929285</td>\n",
       "      <td>order</td>\n",
       "      <td>2018-05-04 16:03:08.099983</td>\n",
       "      <td>on_behalf</td>\n",
       "      <td>Cars</td>\n",
       "      <td>Đông Bắc Bộ</td>\n",
       "      <td>Mới</td>\n",
       "      <td>399000000.0</td>\n",
       "      <td>5</td>\n",
       "    </tr>\n",
       "    <tr>\n",
       "      <th>2</th>\n",
       "      <td>2753457128963724056</td>\n",
       "      <td>-6487219347028929285</td>\n",
       "      <td>order</td>\n",
       "      <td>2018-05-03 15:13:42.447070</td>\n",
       "      <td>on_behalf</td>\n",
       "      <td>Cars</td>\n",
       "      <td>Đông Bắc Bộ</td>\n",
       "      <td>Mới</td>\n",
       "      <td>399000000.0</td>\n",
       "      <td>5</td>\n",
       "    </tr>\n",
       "    <tr>\n",
       "      <th>3</th>\n",
       "      <td>-4397739266189556976</td>\n",
       "      <td>4054922453976773054</td>\n",
       "      <td>order</td>\n",
       "      <td>2018-05-23 11:15:25.932663</td>\n",
       "      <td>on_behalf</td>\n",
       "      <td>Cars</td>\n",
       "      <td>Hà Nội</td>\n",
       "      <td>Mới</td>\n",
       "      <td>705000000.0</td>\n",
       "      <td>5</td>\n",
       "    </tr>\n",
       "    <tr>\n",
       "      <th>4</th>\n",
       "      <td>-8143274583979068266</td>\n",
       "      <td>3202538754056800998</td>\n",
       "      <td>order</td>\n",
       "      <td>2018-05-15 17:53:01.634923</td>\n",
       "      <td>on_behalf</td>\n",
       "      <td>Cars</td>\n",
       "      <td>Hà Nội</td>\n",
       "      <td>Mới</td>\n",
       "      <td>696000000.0</td>\n",
       "      <td>5</td>\n",
       "    </tr>\n",
       "  </tbody>\n",
       "</table>\n",
       "</div>"
      ],
      "text/plain": [
       "            account_id                ad_id event_name  \\\n",
       "0   249683985899310273  -159265360436186278      order   \n",
       "1  2753457128963724056 -6487219347028929285      order   \n",
       "2  2753457128963724056 -6487219347028929285      order   \n",
       "3 -4397739266189556976  4054922453976773054      order   \n",
       "4 -8143274583979068266  3202538754056800998      order   \n",
       "\n",
       "                    timestamp   platform category_name  region_name  \\\n",
       "0  2018-05-16 17:33:18.350333  on_behalf          Cars  Đông Bắc Bộ   \n",
       "1  2018-05-04 16:03:08.099983  on_behalf          Cars  Đông Bắc Bộ   \n",
       "2  2018-05-03 15:13:42.447070  on_behalf          Cars  Đông Bắc Bộ   \n",
       "3  2018-05-23 11:15:25.932663  on_behalf          Cars       Hà Nội   \n",
       "4  2018-05-15 17:53:01.634923  on_behalf          Cars       Hà Nội   \n",
       "\n",
       "  condition_ad_name        price  month  \n",
       "0               Mới  267000000.0      5  \n",
       "1               Mới  399000000.0      5  \n",
       "2               Mới  399000000.0      5  \n",
       "3               Mới  705000000.0      5  \n",
       "4               Mới  696000000.0      5  "
      ]
     },
     "execution_count": 37,
     "metadata": {},
     "output_type": "execute_result"
    }
   ],
   "source": [
    "data['month'] = pd.DatetimeIndex(data['timestamp']).month\n",
    "data.head()"
   ]
  },
  {
   "cell_type": "code",
   "execution_count": 33,
   "metadata": {
    "collapsed": false
   },
   "outputs": [
    {
     "data": {
      "text/plain": [
       "month\n",
       "1     874485\n",
       "2     293482\n",
       "3     578151\n",
       "4     479568\n",
       "5     455109\n",
       "6     406413\n",
       "7     388165\n",
       "8     378905\n",
       "9     351418\n",
       "10    371341\n",
       "11    351869\n",
       "12    334392\n",
       "Name: ad_id, dtype: int64"
      ]
     },
     "execution_count": 33,
     "metadata": {},
     "output_type": "execute_result"
    }
   ],
   "source": [
    "data.groupby('month')['ad_id'].count()"
   ]
  },
  {
   "cell_type": "code",
   "execution_count": 41,
   "metadata": {
    "collapsed": true
   },
   "outputs": [],
   "source": [
    "# 10"
   ]
  },
  {
   "cell_type": "code",
   "execution_count": 42,
   "metadata": {
    "collapsed": false
   },
   "outputs": [
    {
     "data": {
      "text/html": [
       "<div>\n",
       "<table border=\"1\" class=\"dataframe\">\n",
       "  <thead>\n",
       "    <tr style=\"text-align: right;\">\n",
       "      <th></th>\n",
       "      <th>account_id</th>\n",
       "      <th>ad_id</th>\n",
       "      <th>event_name</th>\n",
       "      <th>timestamp</th>\n",
       "      <th>platform</th>\n",
       "      <th>category_name</th>\n",
       "      <th>region_name</th>\n",
       "      <th>condition_ad_name</th>\n",
       "      <th>price</th>\n",
       "      <th>month</th>\n",
       "      <th>hour</th>\n",
       "    </tr>\n",
       "  </thead>\n",
       "  <tbody>\n",
       "    <tr>\n",
       "      <th>0</th>\n",
       "      <td>249683985899310273</td>\n",
       "      <td>-159265360436186278</td>\n",
       "      <td>order</td>\n",
       "      <td>2018-05-16 17:33:18.350333</td>\n",
       "      <td>on_behalf</td>\n",
       "      <td>Cars</td>\n",
       "      <td>Đông Bắc Bộ</td>\n",
       "      <td>Mới</td>\n",
       "      <td>267000000.0</td>\n",
       "      <td>5</td>\n",
       "      <td>17</td>\n",
       "    </tr>\n",
       "    <tr>\n",
       "      <th>1</th>\n",
       "      <td>2753457128963724056</td>\n",
       "      <td>-6487219347028929285</td>\n",
       "      <td>order</td>\n",
       "      <td>2018-05-04 16:03:08.099983</td>\n",
       "      <td>on_behalf</td>\n",
       "      <td>Cars</td>\n",
       "      <td>Đông Bắc Bộ</td>\n",
       "      <td>Mới</td>\n",
       "      <td>399000000.0</td>\n",
       "      <td>5</td>\n",
       "      <td>16</td>\n",
       "    </tr>\n",
       "    <tr>\n",
       "      <th>2</th>\n",
       "      <td>2753457128963724056</td>\n",
       "      <td>-6487219347028929285</td>\n",
       "      <td>order</td>\n",
       "      <td>2018-05-03 15:13:42.447070</td>\n",
       "      <td>on_behalf</td>\n",
       "      <td>Cars</td>\n",
       "      <td>Đông Bắc Bộ</td>\n",
       "      <td>Mới</td>\n",
       "      <td>399000000.0</td>\n",
       "      <td>5</td>\n",
       "      <td>15</td>\n",
       "    </tr>\n",
       "    <tr>\n",
       "      <th>3</th>\n",
       "      <td>-4397739266189556976</td>\n",
       "      <td>4054922453976773054</td>\n",
       "      <td>order</td>\n",
       "      <td>2018-05-23 11:15:25.932663</td>\n",
       "      <td>on_behalf</td>\n",
       "      <td>Cars</td>\n",
       "      <td>Hà Nội</td>\n",
       "      <td>Mới</td>\n",
       "      <td>705000000.0</td>\n",
       "      <td>5</td>\n",
       "      <td>11</td>\n",
       "    </tr>\n",
       "    <tr>\n",
       "      <th>4</th>\n",
       "      <td>-8143274583979068266</td>\n",
       "      <td>3202538754056800998</td>\n",
       "      <td>order</td>\n",
       "      <td>2018-05-15 17:53:01.634923</td>\n",
       "      <td>on_behalf</td>\n",
       "      <td>Cars</td>\n",
       "      <td>Hà Nội</td>\n",
       "      <td>Mới</td>\n",
       "      <td>696000000.0</td>\n",
       "      <td>5</td>\n",
       "      <td>17</td>\n",
       "    </tr>\n",
       "  </tbody>\n",
       "</table>\n",
       "</div>"
      ],
      "text/plain": [
       "            account_id                ad_id event_name  \\\n",
       "0   249683985899310273  -159265360436186278      order   \n",
       "1  2753457128963724056 -6487219347028929285      order   \n",
       "2  2753457128963724056 -6487219347028929285      order   \n",
       "3 -4397739266189556976  4054922453976773054      order   \n",
       "4 -8143274583979068266  3202538754056800998      order   \n",
       "\n",
       "                    timestamp   platform category_name  region_name  \\\n",
       "0  2018-05-16 17:33:18.350333  on_behalf          Cars  Đông Bắc Bộ   \n",
       "1  2018-05-04 16:03:08.099983  on_behalf          Cars  Đông Bắc Bộ   \n",
       "2  2018-05-03 15:13:42.447070  on_behalf          Cars  Đông Bắc Bộ   \n",
       "3  2018-05-23 11:15:25.932663  on_behalf          Cars       Hà Nội   \n",
       "4  2018-05-15 17:53:01.634923  on_behalf          Cars       Hà Nội   \n",
       "\n",
       "  condition_ad_name        price  month  hour  \n",
       "0               Mới  267000000.0      5    17  \n",
       "1               Mới  399000000.0      5    16  \n",
       "2               Mới  399000000.0      5    15  \n",
       "3               Mới  705000000.0      5    11  \n",
       "4               Mới  696000000.0      5    17  "
      ]
     },
     "execution_count": 42,
     "metadata": {},
     "output_type": "execute_result"
    }
   ],
   "source": [
    "data['hour'] = pd.DatetimeIndex(data['timestamp']).hour\n",
    "data.head()"
   ]
  },
  {
   "cell_type": "code",
   "execution_count": 51,
   "metadata": {
    "collapsed": false
   },
   "outputs": [
    {
     "data": {
      "text/plain": [
       "month\n",
       "9    323.669444\n",
       "Name: ad_id, dtype: float64"
      ]
     },
     "execution_count": 51,
     "metadata": {},
     "output_type": "execute_result"
    }
   ],
   "source": [
    "sep = data[data.month == 9].groupby('month')['ad_id'].nunique()\n",
    "ad_per_hour_sep = sep / (30*24)\n",
    "ad_per_hour_sep"
   ]
  },
  {
   "cell_type": "code",
   "execution_count": 52,
   "metadata": {
    "collapsed": false
   },
   "outputs": [
    {
     "data": {
      "text/plain": [
       "month\n",
       "10    331.372312\n",
       "Name: ad_id, dtype: float64"
      ]
     },
     "execution_count": 52,
     "metadata": {},
     "output_type": "execute_result"
    }
   ],
   "source": [
    "oct = data[data.month == 10].groupby('month')['ad_id'].nunique()\n",
    "ad_per_hour_oct = oct / (31*24)\n",
    "ad_per_hour_oct"
   ]
  },
  {
   "cell_type": "code",
   "execution_count": 53,
   "metadata": {
    "collapsed": false
   },
   "outputs": [
    {
     "data": {
      "text/plain": [
       "month\n",
       "11    321.111111\n",
       "Name: ad_id, dtype: float64"
      ]
     },
     "execution_count": 53,
     "metadata": {},
     "output_type": "execute_result"
    }
   ],
   "source": [
    "nov = data[data.month == 11].groupby('month')['ad_id'].nunique()\n",
    "ad_per_hour_nov = nov / (30*24)\n",
    "ad_per_hour_nov"
   ]
  },
  {
   "cell_type": "code",
   "execution_count": 59,
   "metadata": {
    "collapsed": false
   },
   "outputs": [
    {
     "data": {
      "text/plain": [
       "hour\n",
       "9    31464\n",
       "Name: ad_id, dtype: int64"
      ]
     },
     "execution_count": 59,
     "metadata": {},
     "output_type": "execute_result"
    }
   ],
   "source": [
    "data[data.month == 9].groupby('hour')['ad_id'].nunique().sort_values(ascending = False).head(1)"
   ]
  },
  {
   "cell_type": "code",
   "execution_count": 56,
   "metadata": {
    "collapsed": false
   },
   "outputs": [
    {
     "data": {
      "text/plain": [
       "hour\n",
       "9    33858\n",
       "Name: ad_id, dtype: int64"
      ]
     },
     "execution_count": 56,
     "metadata": {},
     "output_type": "execute_result"
    }
   ],
   "source": [
    "data[data.month == 10].groupby('hour')['ad_id'].nunique().sort_values(ascending = False).head(1)"
   ]
  },
  {
   "cell_type": "code",
   "execution_count": 57,
   "metadata": {
    "collapsed": false
   },
   "outputs": [
    {
     "data": {
      "text/plain": [
       "hour\n",
       "9    31663\n",
       "Name: ad_id, dtype: int64"
      ]
     },
     "execution_count": 57,
     "metadata": {},
     "output_type": "execute_result"
    }
   ],
   "source": [
    "data[data.month == 11].groupby('hour')['ad_id'].nunique().sort_values(ascending = False).head(1)"
   ]
  },
  {
   "cell_type": "code",
   "execution_count": null,
   "metadata": {
    "collapsed": true
   },
   "outputs": [],
   "source": []
  }
 ],
 "metadata": {
  "kernelspec": {
   "display_name": "Python 3",
   "language": "python",
   "name": "python3"
  },
  "language_info": {
   "codemirror_mode": {
    "name": "ipython",
    "version": 3
   },
   "file_extension": ".py",
   "mimetype": "text/x-python",
   "name": "python",
   "nbconvert_exporter": "python",
   "pygments_lexer": "ipython3",
   "version": "3.6.0"
  }
 },
 "nbformat": 4,
 "nbformat_minor": 2
}
