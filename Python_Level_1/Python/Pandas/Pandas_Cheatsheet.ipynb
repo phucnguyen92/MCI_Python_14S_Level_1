{
 "cells": [
  {
   "cell_type": "markdown",
   "metadata": {},
   "source": [
    "![](https://www.kdnuggets.com/wp-content/uploads/pandas-01.png)\n",
    "![](https://www.kdnuggets.com/wp-content/uploads/pandas-02.png)\n",
    "![](https://www.kdnuggets.com/wp-content/uploads/pandas-03.png)\n",
    "![](https://www.kdnuggets.com/wp-content/uploads/pandas-04.png)\n",
    "![](https://www.kdnuggets.com/wp-content/uploads/pandas-05.png)\n",
    "![](https://www.kdnuggets.com/wp-content/uploads/pandas-06.png)\n",
    "![](https://www.kdnuggets.com/wp-content/uploads/pandas-07.png)\n",
    "![](https://www.kdnuggets.com/wp-content/uploads/pandas-08.png)\n",
    "![](https://www.kdnuggets.com/wp-content/uploads/pandas-09.png)\n",
    "![](https://www.kdnuggets.com/wp-content/uploads/pandas-10.png)\n",
    "![](https://i.pinimg.com/originals/39/08/5c/39085c27945ad3eb49e0de7dff6f0b0e.png)\n",
    "![](https://miro.medium.com/max/3506/1*o_CO_8Plpi2Ac3s-Gs5IQg.png)\n",
    "![](https://cdn-images-1.medium.com/max/2000/1*k6_-XfgogqSqjgMJP6_8Iw.png)"
   ]
  }
 ],
 "metadata": {
  "kernelspec": {
   "display_name": "Python 3",
   "language": "python",
   "name": "python3"
  },
  "language_info": {
   "codemirror_mode": {
    "name": "ipython",
    "version": 3
   },
   "file_extension": ".py",
   "mimetype": "text/x-python",
   "name": "python",
   "nbconvert_exporter": "python",
   "pygments_lexer": "ipython3",
   "version": "3.7.6"
  }
 },
 "nbformat": 4,
 "nbformat_minor": 4
}
